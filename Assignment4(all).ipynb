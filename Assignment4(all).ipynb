{
  "nbformat": 4,
  "nbformat_minor": 0,
  "metadata": {
    "colab": {
      "provenance": []
    },
    "kernelspec": {
      "name": "python3",
      "display_name": "Python 3"
    },
    "language_info": {
      "name": "python"
    }
  },
  "cells": [
    {
      "cell_type": "markdown",
      "source": [
        "Assignment-4: Map | Filter | Lambda"
      ],
      "metadata": {
        "id": "axWsmcun6EyP"
      }
    },
    {
      "cell_type": "markdown",
      "source": [
        "1. Write a Python program to create a lambda function that adds 25 to a given number passed in as an argument.\n",
        "\n"
      ],
      "metadata": {
        "id": "4peVynNF6Ep5"
      }
    },
    {
      "cell_type": "code",
      "execution_count": 1,
      "metadata": {
        "id": "P_ZN-_sd59m9",
        "colab": {
          "base_uri": "https://localhost:8080/"
        },
        "outputId": "5beeb1e6-889a-4cbc-d2a2-bd42f038449b"
      },
      "outputs": [
        {
          "output_type": "stream",
          "name": "stdout",
          "text": [
            "35\n"
          ]
        }
      ],
      "source": [
        "add_25 = lambda x: x + 25\n",
        "print(add_25(10))"
      ]
    },
    {
      "cell_type": "markdown",
      "source": [
        "2. Write a Python program to reverse a string."
      ],
      "metadata": {
        "id": "Tp2_OHwp6KeX"
      }
    },
    {
      "cell_type": "code",
      "source": [
        "nums = [1, 2, 3, 4, 5, 6, 7]\n",
        "print(\"Original list: \", nums)\n",
        "\n",
        "result = map(lambda x: x * 3, nums)\n",
        "print(\"\\nTriple of list numbers:\")\n",
        "print([*result])"
      ],
      "metadata": {
        "id": "cC5z5efV6ri3",
        "colab": {
          "base_uri": "https://localhost:8080/"
        },
        "outputId": "016912f1-2d97-4183-9577-0cadcbdcea00"
      },
      "execution_count": 19,
      "outputs": [
        {
          "output_type": "stream",
          "name": "stdout",
          "text": [
            "Original list:  [1, 2, 3, 4, 5, 6, 7]\n",
            "\n",
            "Triple of list numbers:\n",
            "[3, 6, 9, 12, 15, 18, 21]\n"
          ]
        }
      ]
    },
    {
      "cell_type": "markdown",
      "source": [
        "3. Write a Python function that accepts a string and calculate the number of upper case letters and lower case letters."
      ],
      "metadata": {
        "id": "XwaiPjXj6KZw"
      }
    },
    {
      "cell_type": "code",
      "source": [
        "nums = [4, 5, 2, 9]\n",
        "print(\"Sample List: \", nums)\n",
        "\n",
        "result = map(lambda x: x ** 2, nums)\n",
        "print(\"\\nSquare the elements of the list:\")\n",
        "print([*result])"
      ],
      "metadata": {
        "colab": {
          "base_uri": "https://localhost:8080/"
        },
        "id": "vmdjgZUYHc2u",
        "outputId": "7614581b-6e29-4ed0-8201-df619c0f9561"
      },
      "execution_count": 22,
      "outputs": [
        {
          "output_type": "stream",
          "name": "stdout",
          "text": [
            "Sample List:  [4, 5, 2, 9]\n",
            "\n",
            "Square the elements of the list:\n",
            "[16, 25, 4, 81]\n"
          ]
        }
      ]
    }
  ]
}