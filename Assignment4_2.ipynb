{
  "nbformat": 4,
  "nbformat_minor": 0,
  "metadata": {
    "colab": {
      "provenance": []
    },
    "kernelspec": {
      "name": "python3",
      "display_name": "Python 3"
    },
    "language_info": {
      "name": "python"
    }
  },
  "cells": [
    {
      "cell_type": "markdown",
      "source": [
        "2. Write a Python program to reverse a string."
      ],
      "metadata": {
        "id": "Z47GS7RlHVZN"
      }
    },
    {
      "cell_type": "code",
      "execution_count": 1,
      "metadata": {
        "colab": {
          "base_uri": "https://localhost:8080/"
        },
        "id": "jHy198IYHSlD",
        "outputId": "d2ebf73a-1e36-4a74-cf92-8101eaec35a9"
      },
      "outputs": [
        {
          "output_type": "stream",
          "name": "stdout",
          "text": [
            "Original list:  [1, 2, 3, 4, 5, 6, 7]\n",
            "\n",
            "Triple of list numbers:\n",
            "[3, 6, 9, 12, 15, 18, 21]\n"
          ]
        }
      ],
      "source": [
        "nums = [1, 2, 3, 4, 5, 6, 7]\n",
        "print(\"Original list: \", nums)\n",
        "\n",
        "result = map(lambda x: x * 3, nums)\n",
        "print(\"\\nTriple of list numbers:\")\n",
        "print([*result])"
      ]
    }
  ]
}