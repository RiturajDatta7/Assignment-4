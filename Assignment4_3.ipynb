{
  "nbformat": 4,
  "nbformat_minor": 0,
  "metadata": {
    "colab": {
      "provenance": []
    },
    "kernelspec": {
      "name": "python3",
      "display_name": "Python 3"
    },
    "language_info": {
      "name": "python"
    }
  },
  "cells": [
    {
      "cell_type": "markdown",
      "source": [
        "3. Write a Python function that accepts a string and calculate the number of upper case letters and lower case letters."
      ],
      "metadata": {
        "id": "IrctkJ28K3A9"
      }
    },
    {
      "cell_type": "code",
      "execution_count": 1,
      "metadata": {
        "colab": {
          "base_uri": "https://localhost:8080/"
        },
        "id": "8rDE0jCTK2B4",
        "outputId": "b398a80b-5aaa-4fb0-cd27-adc82b8a04db"
      },
      "outputs": [
        {
          "output_type": "stream",
          "name": "stdout",
          "text": [
            "Sample List:  [4, 5, 2, 9]\n",
            "\n",
            "Square the elements of the list:\n",
            "[16, 25, 4, 81]\n"
          ]
        }
      ],
      "source": [
        "nums = [4, 5, 2, 9]\n",
        "print(\"Sample List: \", nums)\n",
        "\n",
        "result = map(lambda x: x ** 2, nums)\n",
        "print(\"\\nSquare the elements of the list:\")\n",
        "print([*result])"
      ]
    }
  ]
}