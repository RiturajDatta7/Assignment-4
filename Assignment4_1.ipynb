{
  "nbformat": 4,
  "nbformat_minor": 0,
  "metadata": {
    "colab": {
      "provenance": []
    },
    "kernelspec": {
      "name": "python3",
      "display_name": "Python 3"
    },
    "language_info": {
      "name": "python"
    }
  },
  "cells": [
    {
      "cell_type": "markdown",
      "source": [
        "1. Write a Python program to create a lambda function that adds 25 to a given number passed in as an argument.\n",
        "\n"
      ],
      "metadata": {
        "id": "7U7NrrSCG7BG"
      }
    },
    {
      "cell_type": "code",
      "execution_count": 1,
      "metadata": {
        "id": "gRsk4j4R8jnn",
        "colab": {
          "base_uri": "https://localhost:8080/"
        },
        "outputId": "27dd2c15-320e-4be3-b5f0-65c7d5b7a964"
      },
      "outputs": [
        {
          "output_type": "stream",
          "name": "stdout",
          "text": [
            "35\n"
          ]
        }
      ],
      "source": [
        "add_25 = lambda x: x + 25\n",
        "print(add_25(10))"
      ]
    }
  ]
}